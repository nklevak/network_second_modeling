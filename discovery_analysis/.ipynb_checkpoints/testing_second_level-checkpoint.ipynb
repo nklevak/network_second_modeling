{
 "cells": [
  {
   "cell_type": "code",
   "execution_count": 1,
   "id": "1e8c5f20-2e03-4b6e-985f-632440236995",
   "metadata": {},
   "outputs": [],
   "source": [
    "import os\n",
    "import numpy as np\n",
    "import pandas as pd\n",
    "import nibabel as nib\n",
    "from nilearn import plotting\n",
    "from nilearn.glm.first_level import FirstLevelModel\n",
    "from nilearn.glm.second_level import SecondLevelModel\n",
    "from nilearn.image import concat_imgs, mean_img, index_img\n",
    "from nilearn.reporting import make_glm_report\n",
    "import matplotlib.pyplot as plt"
   ]
  },
  {
   "cell_type": "code",
   "execution_count": 43,
   "id": "7b94bf21-9c5c-45d9-9522-ccfcfc484f28",
   "metadata": {},
   "outputs": [],
   "source": [
    "# format:\n",
    "# /oak/stanford/groups/russpold/data/network_grant/discovery_BIDS_20250402/derivatives/output_lev1_mni/sub-s03/nBack/indiv_contrasts\n",
    "# sub-s03_ses-02_task-nBack_contrast-twoBack-oneBack_rtmodel-rt_centered_stat-effect-size.nii.gz\n",
    "BASE_DIR = '/oak/stanford/groups/russpold/data/network_grant/discovery_BIDS_20250402/derivatives/'\n",
    "SUBJECTS = ['sub-s03', 'sub-s10', 'sub-s19', 'sub-s29', 'sub-s43']\n",
    "SESSIONS = ['ses-01', 'ses-02', 'ses-03', 'ses-04', 'ses-05', 'ses-06', 'ses-07', 'ses-08', 'ses-09']\n",
    "TASK = \"nBack\"\n",
    "LEVEL = 'output_lev1_mni'\n",
    "\n",
    "# Lists to store contrast maps and design information\n",
    "all_contrast_maps = []\n",
    "session_maps = {} # to keep track of them per subj (to normalize the order)\n",
    "design_matrix_rows = []\n",
    "\n",
    "# Contrast of interest\n",
    "contrast_name = 'twoBack-oneBack_rtmodel-rt_centered_stat-effect-size'"
   ]
  },
  {
   "cell_type": "code",
   "execution_count": 47,
   "id": "1c771239-90b0-4c77-8a18-2ca9b7bbeceb",
   "metadata": {},
   "outputs": [],
   "source": [
    "# save the first level contrast map files\n",
    "for subject in SUBJECTS:\n",
    "    overall_session_count = 0\n",
    "    session_maps[subject] = {}\n",
    "    \n",
    "    for session in SESSIONS:\n",
    "        # Path to contrast image from first-level analysis\n",
    "        contrast_map_path = os.path.join(\n",
    "            BASE_DIR, LEVEL, subject, TASK, 'indiv_contrasts', f'{subject}_{session}_task-{TASK}_contrast-{contrast_name}.nii.gz'\n",
    "        )\n",
    "        \n",
    "        # Check if file exists before adding\n",
    "        if os.path.exists(contrast_map_path):\n",
    "            all_contrast_maps.append(contrast_map_path)\n",
    "            \n",
    "            session_maps[subject][overall_session_count] = contrast_map_path\n",
    "            overall_session_count += 1"
   ]
  },
  {
   "cell_type": "code",
   "execution_count": 48,
   "id": "85d18c42-2794-4cbc-8dff-31e25c6e433e",
   "metadata": {},
   "outputs": [],
   "source": [
    "# print(len(all_contrast_maps))\n",
    "# print(design_matrix_rows)\n",
    "# print(session_maps)\n",
    "\n",
    "# sort the contrast maps per objectively numbered session\n",
    "session_contrast_maps = {}\n",
    "session_design_rows = {}\n",
    "\n",
    "for session in range(5):\n",
    "    session_contrast_maps[session] = []\n",
    "    session_design_rows[session] = []\n",
    "    \n",
    "    for subject in SUBJECTS:\n",
    "        if subject in session_maps and session in session_maps[subject]:\n",
    "            map = session_maps[subject][session]\n",
    "            session_contrast_maps[session].append(map)\n",
    "            session_design_rows[session].append({\n",
    "                'subject': subject,\n",
    "                # Add any subject-specific covariates here\n",
    "                # 'age': subject_age[subject],\n",
    "                # 'performance': n_back_performance[subject][session]\n",
    "            })\n",
    "\n",
    "# print(session_contrast_maps)\n",
    "# print(\"-----\")\n",
    "# print(session_design_rows) # session 5 (4 in the array numbering) only has 3 participants"
   ]
  },
  {
   "cell_type": "markdown",
   "id": "e9a92c45-d671-4dc2-89fd-f5b25eaad55c",
   "metadata": {},
   "source": [
    "**Will now create second level models and visualize them session by session. Can do this all in a loop in the future but this is for visualization purposes.**"
   ]
  },
  {
   "cell_type": "code",
   "execution_count": null,
   "id": "95e67f93-1b51-4f63-9323-58caa4bace3c",
   "metadata": {},
   "outputs": [],
   "source": []
  }
 ],
 "metadata": {
  "kernelspec": {
   "display_name": "Python (PDM Environment)",
   "language": "python",
   "name": "pdm-env"
  },
  "language_info": {
   "codemirror_mode": {
    "name": "ipython",
    "version": 3
   },
   "file_extension": ".py",
   "mimetype": "text/x-python",
   "name": "python",
   "nbconvert_exporter": "python",
   "pygments_lexer": "ipython3",
   "version": "3.9.21"
  }
 },
 "nbformat": 4,
 "nbformat_minor": 5
}
