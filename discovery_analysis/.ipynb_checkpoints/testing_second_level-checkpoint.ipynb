{
 "cells": [
  {
   "cell_type": "code",
   "execution_count": 67,
   "id": "1e8c5f20-2e03-4b6e-985f-632440236995",
   "metadata": {},
   "outputs": [],
   "source": [
    "import os\n",
    "import numpy as np\n",
    "import pandas as pd\n",
    "import nibabel as nib\n",
    "import nilearn\n",
    "# from nilearn import plotting\n",
    "# from nilearn.glm.first_level import FirstLevelModel\n",
    "# from nilearn.glm.second_level import SecondLevelModel\n",
    "# from nilearn.glm import threshold_stats_img\n",
    "# from nilearn.image import concat_imgs, mean_img, index_img\n",
    "# from nilearn.reporting import make_glm_report\n",
    "import matplotlib.pyplot as plt"
   ]
  },
  {
   "cell_type": "code",
   "execution_count": 85,
   "id": "7b94bf21-9c5c-45d9-9522-ccfcfc484f28",
   "metadata": {},
   "outputs": [],
   "source": [
    "# format:\n",
    "# /oak/stanford/groups/russpold/data/network_grant/discovery_BIDS_20250402/derivatives/output_lev1_mni/sub-s03/nBack/indiv_contrasts\n",
    "# sub-s03_ses-02_task-nBack_contrast-twoBack-oneBack_rtmodel-rt_centered_stat-effect-size.nii.gz\n",
    "BASE_DIR = '/oak/stanford/groups/russpold/data/network_grant/discovery_BIDS_20250402/derivatives/'\n",
    "SUBJECTS = ['sub-s03', 'sub-s10', 'sub-s19', 'sub-s29', 'sub-s43']\n",
    "SESSIONS = ['ses-01', 'ses-02', 'ses-03', 'ses-04', 'ses-05', 'ses-06', 'ses-07', 'ses-08', 'ses-09']\n",
    "TASK = \"nBack\"\n",
    "LEVEL = 'output_lev1_mni'\n",
    "\n",
    "# Lists to store contrast maps and design information\n",
    "all_contrast_maps = []\n",
    "session_maps = {} # to keep track of them per subj (to normalize the order)\n",
    "design_matrix_rows = []\n",
    "\n",
    "# Contrast of interest\n",
    "contrast_name = 'twoBack-oneBack_rtmodel-rt_centered_stat-effect-size'"
   ]
  },
  {
   "cell_type": "code",
   "execution_count": 86,
   "id": "1c771239-90b0-4c77-8a18-2ca9b7bbeceb",
   "metadata": {},
   "outputs": [],
   "source": [
    "# save the first level contrast map files\n",
    "for subject in SUBJECTS:\n",
    "    overall_session_count = 0\n",
    "    session_maps[subject] = {}\n",
    "    \n",
    "    for session in SESSIONS:\n",
    "        # Path to contrast image from first-level analysis\n",
    "        contrast_map_path = os.path.join(\n",
    "            BASE_DIR, LEVEL, subject, TASK, 'indiv_contrasts', f'{subject}_{session}_task-{TASK}_contrast-{contrast_name}.nii.gz'\n",
    "        )\n",
    "        \n",
    "        # Check if file exists before adding\n",
    "        if os.path.exists(contrast_map_path):\n",
    "            all_contrast_maps.append(contrast_map_path)\n",
    "            \n",
    "            session_maps[subject][overall_session_count] = contrast_map_path\n",
    "            overall_session_count += 1"
   ]
  },
  {
   "cell_type": "code",
   "execution_count": 87,
   "id": "85d18c42-2794-4cbc-8dff-31e25c6e433e",
   "metadata": {},
   "outputs": [],
   "source": [
    "# print(len(all_contrast_maps))\n",
    "# print(design_matrix_rows)\n",
    "# print(session_maps)\n",
    "\n",
    "# sort the contrast maps per objectively numbered session\n",
    "session_contrast_maps = {}\n",
    "session_design_rows = {}\n",
    "\n",
    "for session in range(5):\n",
    "    session_contrast_maps[session] = []\n",
    "    session_design_rows[session] = []\n",
    "    \n",
    "    for subject in SUBJECTS:\n",
    "        if subject in session_maps and session in session_maps[subject]:\n",
    "            map = session_maps[subject][session]\n",
    "            session_contrast_maps[session].append(map)\n",
    "            session_design_rows[session].append({\n",
    "                'subject': subject,\n",
    "                # Add any subject-specific covariates here\n",
    "                # 'age': subject_age[subject],\n",
    "                # 'performance': n_back_performance[subject][session]\n",
    "            })\n",
    "\n",
    "# print(session_contrast_maps)\n",
    "# print(\"-----\")\n",
    "# print(session_design_rows) # session 5 (4 in the array numbering) only has 3 participants"
   ]
  },
  {
   "cell_type": "markdown",
   "id": "e9a92c45-d671-4dc2-89fd-f5b25eaad55c",
   "metadata": {},
   "source": [
    "**Will now create second level models and visualize them session by session. Can do this all in a loop in the future but this is for visualization purposes.**"
   ]
  },
  {
   "cell_type": "code",
   "execution_count": 90,
   "id": "95e67f93-1b51-4f63-9323-58caa4bace3c",
   "metadata": {},
   "outputs": [
    {
     "ename": "ValueError",
     "evalue": "object arrays are not supported",
     "output_type": "error",
     "traceback": [
      "\u001b[0;31m---------------------------------------------------------------------------\u001b[0m",
      "\u001b[0;31mValueError\u001b[0m                                Traceback (most recent call last)",
      "Cell \u001b[0;32mIn[90], line 16\u001b[0m\n\u001b[1;32m     13\u001b[0m s1_second_level_model\u001b[38;5;241m.\u001b[39mfit(s1_contrast_maps, design_matrix\u001b[38;5;241m=\u001b[39ms1_design_matrix)\n\u001b[1;32m     15\u001b[0m \u001b[38;5;66;03m# Compute the group effect contrast\u001b[39;00m\n\u001b[0;32m---> 16\u001b[0m s1_z_map \u001b[38;5;241m=\u001b[39m \u001b[43ms1_second_level_model\u001b[49m\u001b[38;5;241;43m.\u001b[39;49m\u001b[43mcompute_contrast\u001b[49m\u001b[43m(\u001b[49m\n\u001b[1;32m     17\u001b[0m \u001b[43m    \u001b[49m\u001b[43msecond_level_contrast\u001b[49m\u001b[38;5;241;43m=\u001b[39;49m\u001b[38;5;124;43m'\u001b[39;49m\u001b[38;5;124;43msubject\u001b[39;49m\u001b[38;5;124;43m'\u001b[39;49m\u001b[43m,\u001b[49m\n\u001b[1;32m     18\u001b[0m \u001b[43m    \u001b[49m\u001b[43moutput_type\u001b[49m\u001b[38;5;241;43m=\u001b[39;49m\u001b[38;5;124;43m'\u001b[39;49m\u001b[38;5;124;43mz_score\u001b[39;49m\u001b[38;5;124;43m'\u001b[39;49m\n\u001b[1;32m     19\u001b[0m \u001b[43m)\u001b[49m\n\u001b[1;32m     21\u001b[0m \u001b[38;5;66;03m# # get the map image\u001b[39;00m\n\u001b[1;32m     22\u001b[0m \u001b[38;5;66;03m# thresholded_map, threshold = threshold_stats_img(\u001b[39;00m\n\u001b[1;32m     23\u001b[0m \u001b[38;5;66;03m#         z_map, alpha=0.05, height_control='fdr'\u001b[39;00m\n\u001b[1;32m     24\u001b[0m \u001b[38;5;66;03m#     )\u001b[39;00m\n",
      "File \u001b[0;32m~/miniconda3/lib/python3.9/site-packages/nilearn/glm/second_level/second_level.py:777\u001b[0m, in \u001b[0;36mSecondLevelModel.compute_contrast\u001b[0;34m(self, second_level_contrast, first_level_contrast, second_level_stat_type, output_type)\u001b[0m\n\u001b[1;32m    775\u001b[0m \u001b[38;5;28;01melse\u001b[39;00m:\n\u001b[1;32m    776\u001b[0m     mem_glm \u001b[38;5;241m=\u001b[39m run_glm\n\u001b[0;32m--> 777\u001b[0m labels, results \u001b[38;5;241m=\u001b[39m \u001b[43mmem_glm\u001b[49m\u001b[43m(\u001b[49m\n\u001b[1;32m    778\u001b[0m \u001b[43m    \u001b[49m\u001b[43mY\u001b[49m\u001b[43m,\u001b[49m\n\u001b[1;32m    779\u001b[0m \u001b[43m    \u001b[49m\u001b[38;5;28;43mself\u001b[39;49m\u001b[38;5;241;43m.\u001b[39;49m\u001b[43mdesign_matrix_\u001b[49m\u001b[38;5;241;43m.\u001b[39;49m\u001b[43mvalues\u001b[49m\u001b[43m,\u001b[49m\n\u001b[1;32m    780\u001b[0m \u001b[43m    \u001b[49m\u001b[43mn_jobs\u001b[49m\u001b[38;5;241;43m=\u001b[39;49m\u001b[38;5;28;43mself\u001b[39;49m\u001b[38;5;241;43m.\u001b[39;49m\u001b[43mn_jobs\u001b[49m\u001b[43m,\u001b[49m\n\u001b[1;32m    781\u001b[0m \u001b[43m    \u001b[49m\u001b[43mnoise_model\u001b[49m\u001b[38;5;241;43m=\u001b[39;49m\u001b[38;5;124;43m\"\u001b[39;49m\u001b[38;5;124;43mols\u001b[39;49m\u001b[38;5;124;43m\"\u001b[39;49m\u001b[43m,\u001b[49m\n\u001b[1;32m    782\u001b[0m \u001b[43m\u001b[49m\u001b[43m)\u001b[49m\n\u001b[1;32m    784\u001b[0m \u001b[38;5;66;03m# We save memory if inspecting model details is not necessary\u001b[39;00m\n\u001b[1;32m    785\u001b[0m \u001b[38;5;28;01mif\u001b[39;00m \u001b[38;5;28mself\u001b[39m\u001b[38;5;241m.\u001b[39mminimize_memory:\n",
      "File \u001b[0;32m~/miniconda3/lib/python3.9/site-packages/joblib/memory.py:312\u001b[0m, in \u001b[0;36mNotMemorizedFunc.__call__\u001b[0;34m(self, *args, **kwargs)\u001b[0m\n\u001b[1;32m    311\u001b[0m \u001b[38;5;28;01mdef\u001b[39;00m \u001b[38;5;21m__call__\u001b[39m(\u001b[38;5;28mself\u001b[39m, \u001b[38;5;241m*\u001b[39margs, \u001b[38;5;241m*\u001b[39m\u001b[38;5;241m*\u001b[39mkwargs):\n\u001b[0;32m--> 312\u001b[0m     \u001b[38;5;28;01mreturn\u001b[39;00m \u001b[38;5;28;43mself\u001b[39;49m\u001b[38;5;241;43m.\u001b[39;49m\u001b[43mfunc\u001b[49m\u001b[43m(\u001b[49m\u001b[38;5;241;43m*\u001b[39;49m\u001b[43margs\u001b[49m\u001b[43m,\u001b[49m\u001b[43m \u001b[49m\u001b[38;5;241;43m*\u001b[39;49m\u001b[38;5;241;43m*\u001b[39;49m\u001b[43mkwargs\u001b[49m\u001b[43m)\u001b[49m\n",
      "File \u001b[0;32m~/miniconda3/lib/python3.9/site-packages/nilearn/glm/first_level/first_level.py:194\u001b[0m, in \u001b[0;36mrun_glm\u001b[0;34m(Y, X, noise_model, bins, n_jobs, verbose, random_state)\u001b[0m\n\u001b[1;32m    186\u001b[0m     \u001b[38;5;28;01mraise\u001b[39;00m \u001b[38;5;167;01mValueError\u001b[39;00m(\n\u001b[1;32m    187\u001b[0m         \u001b[38;5;124m\"\u001b[39m\u001b[38;5;124mThe number of rows of Y \u001b[39m\u001b[38;5;124m\"\u001b[39m\n\u001b[1;32m    188\u001b[0m         \u001b[38;5;124m\"\u001b[39m\u001b[38;5;124mshould match the number of rows of X.\u001b[39m\u001b[38;5;130;01m\\n\u001b[39;00m\u001b[38;5;124m\"\u001b[39m\n\u001b[1;32m    189\u001b[0m         \u001b[38;5;124mf\u001b[39m\u001b[38;5;124m\"\u001b[39m\u001b[38;5;124mYou provided X with shape \u001b[39m\u001b[38;5;132;01m{\u001b[39;00mX\u001b[38;5;241m.\u001b[39mshape\u001b[38;5;132;01m}\u001b[39;00m\u001b[38;5;124m \u001b[39m\u001b[38;5;124m\"\u001b[39m\n\u001b[1;32m    190\u001b[0m         \u001b[38;5;124mf\u001b[39m\u001b[38;5;124m\"\u001b[39m\u001b[38;5;124mand Y with shape \u001b[39m\u001b[38;5;132;01m{\u001b[39;00mY\u001b[38;5;241m.\u001b[39mshape\u001b[38;5;132;01m}\u001b[39;00m\u001b[38;5;124m.\u001b[39m\u001b[38;5;124m\"\u001b[39m\n\u001b[1;32m    191\u001b[0m     )\n\u001b[1;32m    193\u001b[0m \u001b[38;5;66;03m# Create the model\u001b[39;00m\n\u001b[0;32m--> 194\u001b[0m ols_result \u001b[38;5;241m=\u001b[39m \u001b[43mOLSModel\u001b[49m\u001b[43m(\u001b[49m\u001b[43mX\u001b[49m\u001b[43m)\u001b[49m\u001b[38;5;241m.\u001b[39mfit(Y)\n\u001b[1;32m    196\u001b[0m \u001b[38;5;28;01mif\u001b[39;00m noise_model[:\u001b[38;5;241m2\u001b[39m] \u001b[38;5;241m==\u001b[39m \u001b[38;5;124m\"\u001b[39m\u001b[38;5;124mar\u001b[39m\u001b[38;5;124m\"\u001b[39m:\n\u001b[1;32m    197\u001b[0m     err_msg \u001b[38;5;241m=\u001b[39m (\n\u001b[1;32m    198\u001b[0m         \u001b[38;5;124m\"\u001b[39m\u001b[38;5;124mAR order must be a positive integer specified as arN, \u001b[39m\u001b[38;5;124m\"\u001b[39m\n\u001b[1;32m    199\u001b[0m         \u001b[38;5;124m\"\u001b[39m\u001b[38;5;124mwhere N is an integer. E.g. ar3. \u001b[39m\u001b[38;5;124m\"\u001b[39m\n\u001b[1;32m    200\u001b[0m         \u001b[38;5;124mf\u001b[39m\u001b[38;5;124m\"\u001b[39m\u001b[38;5;124mYou provided \u001b[39m\u001b[38;5;132;01m{\u001b[39;00mnoise_model\u001b[38;5;132;01m}\u001b[39;00m\u001b[38;5;124m.\u001b[39m\u001b[38;5;124m\"\u001b[39m\n\u001b[1;32m    201\u001b[0m     )\n",
      "File \u001b[0;32m~/miniconda3/lib/python3.9/site-packages/nilearn/glm/regression.py:70\u001b[0m, in \u001b[0;36mOLSModel.__init__\u001b[0;34m(self, design)\u001b[0m\n\u001b[1;32m     68\u001b[0m \u001b[38;5;28;01mdef\u001b[39;00m \u001b[38;5;21m__init__\u001b[39m(\u001b[38;5;28mself\u001b[39m, design):\n\u001b[1;32m     69\u001b[0m     \u001b[38;5;28msuper\u001b[39m()\u001b[38;5;241m.\u001b[39m\u001b[38;5;21m__init__\u001b[39m()\n\u001b[0;32m---> 70\u001b[0m     \u001b[38;5;28;43mself\u001b[39;49m\u001b[38;5;241;43m.\u001b[39;49m\u001b[43minitialize\u001b[49m\u001b[43m(\u001b[49m\u001b[43mdesign\u001b[49m\u001b[43m)\u001b[49m\n",
      "File \u001b[0;32m~/miniconda3/lib/python3.9/site-packages/nilearn/glm/regression.py:78\u001b[0m, in \u001b[0;36mOLSModel.initialize\u001b[0;34m(self, design)\u001b[0m\n\u001b[1;32m     76\u001b[0m \u001b[38;5;28mself\u001b[39m\u001b[38;5;241m.\u001b[39mdesign \u001b[38;5;241m=\u001b[39m design\n\u001b[1;32m     77\u001b[0m \u001b[38;5;28mself\u001b[39m\u001b[38;5;241m.\u001b[39mwhitened_design \u001b[38;5;241m=\u001b[39m \u001b[38;5;28mself\u001b[39m\u001b[38;5;241m.\u001b[39mwhiten(\u001b[38;5;28mself\u001b[39m\u001b[38;5;241m.\u001b[39mdesign)\n\u001b[0;32m---> 78\u001b[0m \u001b[38;5;28mself\u001b[39m\u001b[38;5;241m.\u001b[39mcalc_beta \u001b[38;5;241m=\u001b[39m \u001b[43mspl\u001b[49m\u001b[38;5;241;43m.\u001b[39;49m\u001b[43mpinv\u001b[49m\u001b[43m(\u001b[49m\u001b[38;5;28;43mself\u001b[39;49m\u001b[38;5;241;43m.\u001b[39;49m\u001b[43mwhitened_design\u001b[49m\u001b[43m)\u001b[49m\n\u001b[1;32m     79\u001b[0m \u001b[38;5;28mself\u001b[39m\u001b[38;5;241m.\u001b[39mnormalized_cov_beta \u001b[38;5;241m=\u001b[39m np\u001b[38;5;241m.\u001b[39mdot(\n\u001b[1;32m     80\u001b[0m     \u001b[38;5;28mself\u001b[39m\u001b[38;5;241m.\u001b[39mcalc_beta, np\u001b[38;5;241m.\u001b[39mtranspose(\u001b[38;5;28mself\u001b[39m\u001b[38;5;241m.\u001b[39mcalc_beta)\n\u001b[1;32m     81\u001b[0m )\n\u001b[1;32m     82\u001b[0m \u001b[38;5;28mself\u001b[39m\u001b[38;5;241m.\u001b[39mdf_total \u001b[38;5;241m=\u001b[39m \u001b[38;5;28mself\u001b[39m\u001b[38;5;241m.\u001b[39mwhitened_design\u001b[38;5;241m.\u001b[39mshape[\u001b[38;5;241m0\u001b[39m]\n",
      "File \u001b[0;32m~/miniconda3/lib/python3.9/site-packages/scipy/_lib/deprecation.py:213\u001b[0m, in \u001b[0;36m_deprecate_positional_args.<locals>._inner_deprecate_positional_args.<locals>.inner_f\u001b[0;34m(*args, **kwargs)\u001b[0m\n\u001b[1;32m    211\u001b[0m extra_args \u001b[38;5;241m=\u001b[39m \u001b[38;5;28mlen\u001b[39m(args) \u001b[38;5;241m-\u001b[39m \u001b[38;5;28mlen\u001b[39m(all_args)\n\u001b[1;32m    212\u001b[0m \u001b[38;5;28;01mif\u001b[39;00m extra_args \u001b[38;5;241m<\u001b[39m\u001b[38;5;241m=\u001b[39m \u001b[38;5;241m0\u001b[39m:\n\u001b[0;32m--> 213\u001b[0m     \u001b[38;5;28;01mreturn\u001b[39;00m \u001b[43mf\u001b[49m\u001b[43m(\u001b[49m\u001b[38;5;241;43m*\u001b[39;49m\u001b[43margs\u001b[49m\u001b[43m,\u001b[49m\u001b[43m \u001b[49m\u001b[38;5;241;43m*\u001b[39;49m\u001b[38;5;241;43m*\u001b[39;49m\u001b[43mkwargs\u001b[49m\u001b[43m)\u001b[49m\n\u001b[1;32m    215\u001b[0m \u001b[38;5;66;03m# extra_args > 0\u001b[39;00m\n\u001b[1;32m    216\u001b[0m args_msg \u001b[38;5;241m=\u001b[39m [\n\u001b[1;32m    217\u001b[0m     \u001b[38;5;124mf\u001b[39m\u001b[38;5;124m\"\u001b[39m\u001b[38;5;132;01m{\u001b[39;00mname\u001b[38;5;132;01m}\u001b[39;00m\u001b[38;5;124m=\u001b[39m\u001b[38;5;132;01m{\u001b[39;00marg\u001b[38;5;132;01m}\u001b[39;00m\u001b[38;5;124m\"\u001b[39m\n\u001b[1;32m    218\u001b[0m     \u001b[38;5;28;01mfor\u001b[39;00m name, arg \u001b[38;5;129;01min\u001b[39;00m \u001b[38;5;28mzip\u001b[39m(kwonly_args[:extra_args], args[\u001b[38;5;241m-\u001b[39mextra_args:])\n\u001b[1;32m    219\u001b[0m ]\n",
      "File \u001b[0;32m~/miniconda3/lib/python3.9/site-packages/scipy/linalg/_basic.py:1422\u001b[0m, in \u001b[0;36mpinv\u001b[0;34m(a, atol, rtol, return_rank, check_finite, cond, rcond)\u001b[0m\n\u001b[1;32m   1307\u001b[0m \u001b[38;5;129m@_deprecate_positional_args\u001b[39m(version\u001b[38;5;241m=\u001b[39m\u001b[38;5;124m\"\u001b[39m\u001b[38;5;124m1.14\u001b[39m\u001b[38;5;124m\"\u001b[39m)\n\u001b[1;32m   1308\u001b[0m \u001b[38;5;28;01mdef\u001b[39;00m \u001b[38;5;21mpinv\u001b[39m(a, \u001b[38;5;241m*\u001b[39m, atol\u001b[38;5;241m=\u001b[39m\u001b[38;5;28;01mNone\u001b[39;00m, rtol\u001b[38;5;241m=\u001b[39m\u001b[38;5;28;01mNone\u001b[39;00m, return_rank\u001b[38;5;241m=\u001b[39m\u001b[38;5;28;01mFalse\u001b[39;00m, check_finite\u001b[38;5;241m=\u001b[39m\u001b[38;5;28;01mTrue\u001b[39;00m,\n\u001b[1;32m   1309\u001b[0m          cond\u001b[38;5;241m=\u001b[39m_NoValue, rcond\u001b[38;5;241m=\u001b[39m_NoValue):\n\u001b[1;32m   1310\u001b[0m \u001b[38;5;250m    \u001b[39m\u001b[38;5;124;03m\"\"\"\u001b[39;00m\n\u001b[1;32m   1311\u001b[0m \u001b[38;5;124;03m    Compute the (Moore-Penrose) pseudo-inverse of a matrix.\u001b[39;00m\n\u001b[1;32m   1312\u001b[0m \n\u001b[0;32m   (...)\u001b[0m\n\u001b[1;32m   1420\u001b[0m \n\u001b[1;32m   1421\u001b[0m \u001b[38;5;124;03m    \"\"\"\u001b[39;00m\n\u001b[0;32m-> 1422\u001b[0m     a \u001b[38;5;241m=\u001b[39m \u001b[43m_asarray_validated\u001b[49m\u001b[43m(\u001b[49m\u001b[43ma\u001b[49m\u001b[43m,\u001b[49m\u001b[43m \u001b[49m\u001b[43mcheck_finite\u001b[49m\u001b[38;5;241;43m=\u001b[39;49m\u001b[43mcheck_finite\u001b[49m\u001b[43m)\u001b[49m\n\u001b[1;32m   1423\u001b[0m     u, s, vh \u001b[38;5;241m=\u001b[39m _decomp_svd\u001b[38;5;241m.\u001b[39msvd(a, full_matrices\u001b[38;5;241m=\u001b[39m\u001b[38;5;28;01mFalse\u001b[39;00m, check_finite\u001b[38;5;241m=\u001b[39m\u001b[38;5;28;01mFalse\u001b[39;00m)\n\u001b[1;32m   1424\u001b[0m     t \u001b[38;5;241m=\u001b[39m u\u001b[38;5;241m.\u001b[39mdtype\u001b[38;5;241m.\u001b[39mchar\u001b[38;5;241m.\u001b[39mlower()\n",
      "File \u001b[0;32m~/miniconda3/lib/python3.9/site-packages/scipy/_lib/_util.py:324\u001b[0m, in \u001b[0;36m_asarray_validated\u001b[0;34m(a, check_finite, sparse_ok, objects_ok, mask_ok, as_inexact)\u001b[0m\n\u001b[1;32m    322\u001b[0m \u001b[38;5;28;01mif\u001b[39;00m \u001b[38;5;129;01mnot\u001b[39;00m objects_ok:\n\u001b[1;32m    323\u001b[0m     \u001b[38;5;28;01mif\u001b[39;00m a\u001b[38;5;241m.\u001b[39mdtype \u001b[38;5;129;01mis\u001b[39;00m np\u001b[38;5;241m.\u001b[39mdtype(\u001b[38;5;124m'\u001b[39m\u001b[38;5;124mO\u001b[39m\u001b[38;5;124m'\u001b[39m):\n\u001b[0;32m--> 324\u001b[0m         \u001b[38;5;28;01mraise\u001b[39;00m \u001b[38;5;167;01mValueError\u001b[39;00m(\u001b[38;5;124m'\u001b[39m\u001b[38;5;124mobject arrays are not supported\u001b[39m\u001b[38;5;124m'\u001b[39m)\n\u001b[1;32m    325\u001b[0m \u001b[38;5;28;01mif\u001b[39;00m as_inexact:\n\u001b[1;32m    326\u001b[0m     \u001b[38;5;28;01mif\u001b[39;00m \u001b[38;5;129;01mnot\u001b[39;00m np\u001b[38;5;241m.\u001b[39missubdtype(a\u001b[38;5;241m.\u001b[39mdtype, np\u001b[38;5;241m.\u001b[39minexact):\n",
      "\u001b[0;31mValueError\u001b[0m: object arrays are not supported"
     ]
    }
   ],
   "source": [
    "curr_session_num = 0\n",
    "\n",
    "# get the design matrix for given session\n",
    "s1_design_matrix = pd.DataFrame(session_design_rows[curr_session_num])\n",
    "# Add intercept column (group effect)\n",
    "s1_design_matrix['intercept'] = 1\n",
    "\n",
    "# # load the contrast maps\n",
    "s1_contrast_maps = [nib.load(cm) for cm in session_contrast_maps[curr_session_num]]\n",
    "\n",
    "# Create and fit second-level model for this session\n",
    "s1_second_level_model = SecondLevelModel(smoothing_fwhm=8.0)\n",
    "s1_second_level_model.fit(s1_contrast_maps, design_matrix=s1_design_matrix)\n",
    "\n",
    "# Compute the group effect contrast\n",
    "s1_z_map = s1_second_level_model.compute_contrast(\n",
    "    second_level_contrast='intercept',\n",
    "    output_type='z_score'\n",
    ")\n",
    "\n",
    "# # get the map image\n",
    "# thresholded_map, threshold = threshold_stats_img(\n",
    "#         z_map, alpha=0.05, height_control='fdr'\n",
    "#     )"
   ]
  }
 ],
 "metadata": {
  "kernelspec": {
   "display_name": "Python (PDM Environment)",
   "language": "python",
   "name": "pdm-env"
  },
  "language_info": {
   "codemirror_mode": {
    "name": "ipython",
    "version": 3
   },
   "file_extension": ".py",
   "mimetype": "text/x-python",
   "name": "python",
   "nbconvert_exporter": "python",
   "pygments_lexer": "ipython3",
   "version": "3.9.21"
  }
 },
 "nbformat": 4,
 "nbformat_minor": 5
}
