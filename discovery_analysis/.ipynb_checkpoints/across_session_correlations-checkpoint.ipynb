{
 "cells": [
  {
   "cell_type": "markdown",
   "id": "59cece74-93e6-4c6d-81d0-f3909ea20398",
   "metadata": {},
   "source": [
    "Visualizing the simmilarity between different sessions/contrasts/tasks"
   ]
  },
  {
   "cell_type": "code",
   "execution_count": 1,
   "id": "90d8dd97-396e-4f27-9596-227f64b4a4d2",
   "metadata": {},
   "outputs": [],
   "source": [
    "import os\n",
    "import numpy as np\n",
    "import pandas as pd\n",
    "import nibabel as nib\n",
    "import nilearn\n",
    "import json\n",
    "import datetime\n",
    "from nilearn import plotting\n",
    "from nilearn.glm.first_level import FirstLevelModel\n",
    "from nilearn.glm.second_level import SecondLevelModel\n",
    "from nilearn.glm import threshold_stats_img\n",
    "from nilearn.image import concat_imgs, mean_img, index_img\n",
    "from nilearn.reporting import make_glm_report\n",
    "import matplotlib.pyplot as plt\n",
    "from collections import defaultdict"
   ]
  },
  {
   "cell_type": "code",
   "execution_count": 9,
   "id": "5004e605-5a81-41fc-ad39-06b162c98503",
   "metadata": {},
   "outputs": [],
   "source": [
    "# vars for where zmaps are stored\n",
    "INPUT_DIR = '/home/users/nklevak/network_data/'\n",
    "os.makedirs(INPUT_DIR, exist_ok=True)\n",
    "\n",
    "# relevant task and contrast data\n",
    "TASKS = [\"nBack\"] \n",
    "CONTRASTS = {}\n",
    "CONTRASTS[TASKS[0]] = [\"twoBack-oneBack\", \"task-baseline\", \"match-mismatch\"]\n",
    "max_num_encounters = 5"
   ]
  },
  {
   "cell_type": "code",
   "execution_count": 4,
   "id": "7e52fd7f-f35a-4b0d-89e4-02df62e41bcd",
   "metadata": {},
   "outputs": [],
   "source": [
    "# load the zmaps\n",
    "def load_zmaps_with_metadata(input_dir):\n",
    "    \"\"\"\n",
    "    Load z-statistic maps and their metadata from a BIDS-like directory structure.\n",
    "    \n",
    "    Parameters:\n",
    "    -----------\n",
    "    input_dir : str\n",
    "        Directory where files were saved.\n",
    "        \n",
    "    Returns:\n",
    "    --------\n",
    "    dict\n",
    "        Nested dictionary containing loaded zmaps and metadata, organized by task, contrast, and encounter.\n",
    "    \"\"\"\n",
    "    # Initialize nested defaultdict to store the loaded data\n",
    "    loaded_data = defaultdict(lambda: defaultdict(dict))\n",
    "    \n",
    "    # Track number of files loaded\n",
    "    num_files_loaded = 0\n",
    "    \n",
    "    # Walk through the directory structure\n",
    "    for task_name in os.listdir(input_dir):\n",
    "        task_dir = os.path.join(input_dir, task_name)\n",
    "        \n",
    "        # Skip if not a directory\n",
    "        if not os.path.isdir(task_dir):\n",
    "            continue\n",
    "            \n",
    "        for contrast_name in os.listdir(task_dir):\n",
    "            contrast_dir = os.path.join(task_dir, contrast_name)\n",
    "            \n",
    "            # Skip if not a directory\n",
    "            if not os.path.isdir(contrast_dir):\n",
    "                continue\n",
    "                \n",
    "            # Find all .nii.gz files in this contrast directory\n",
    "            for filename in os.listdir(contrast_dir):\n",
    "                if filename.endswith('.nii.gz'):\n",
    "                    # Extract base filename without extension\n",
    "                    base_filename = filename.replace('.nii.gz', '')\n",
    "                    \n",
    "                    # Check if corresponding JSON metadata exists\n",
    "                    json_path = os.path.join(contrast_dir, f\"{base_filename}.json\")\n",
    "                    if not os.path.exists(json_path):\n",
    "                        print(f\"Warning: No metadata found for {filename}\")\n",
    "                        continue\n",
    "                    \n",
    "                    # Load the image\n",
    "                    img_path = os.path.join(contrast_dir, filename)\n",
    "                    zmap = nib.load(img_path)\n",
    "                    \n",
    "                    # Load the metadata\n",
    "                    with open(json_path, 'r') as f:\n",
    "                        metadata = json.load(f)\n",
    "                    \n",
    "                    # Get encounter index (0-based)\n",
    "                    encounter_idx = metadata[\"EncounterNumber\"] - 1\n",
    "                    \n",
    "                    # Store both the image and metadata\n",
    "                    loaded_data[task_name][contrast_name][encounter_idx] = {\n",
    "                        'zmap': zmap,\n",
    "                        'metadata': metadata\n",
    "                    }\n",
    "                    \n",
    "                    num_files_loaded += 1\n",
    "    \n",
    "    print(f\"Loaded {num_files_loaded} z-statistic maps with metadata.\")\n",
    "    return loaded_data"
   ]
  },
  {
   "cell_type": "code",
   "execution_count": 5,
   "id": "83a9902c-92c4-413f-abf7-454cdd422c30",
   "metadata": {},
   "outputs": [
    {
     "name": "stdout",
     "output_type": "stream",
     "text": [
      "Loaded 15 z-statistic maps with metadata.\n"
     ]
    }
   ],
   "source": [
    "loaded_zmaps = load_zmaps_with_metadata(INPUT_DIR)"
   ]
  },
  {
   "cell_type": "code",
   "execution_count": 11,
   "id": "98d77cd0-a327-4ba6-a637-acd6571240c7",
   "metadata": {},
   "outputs": [],
   "source": [
    "def create_coerr_matrix(relevant_zmaps, zmap_descriptors):\n",
    "    zmap_mat = np.zeros((len(zmap_descriptors), relevant_zmaps[0].shape[0]))\n",
    "\n",
    "    for i, map in enumerate(relevant_zmaps):\n",
    "        print(map.shape)\n",
    "        zmap_mat[i,:] = map\n",
    "\n",
    "    print(len(zmap_descriptors))\n",
    "    print(zmap_mat.shape)\n",
    "\n",
    "    return zmap_mat, zmap_descriptors"
   ]
  },
  {
   "cell_type": "code",
   "execution_count": 12,
   "id": "02429b9c-f812-42cc-b5f0-a84b1c970675",
   "metadata": {},
   "outputs": [
    {
     "name": "stdout",
     "output_type": "stream",
     "text": [
      "(97, 115, 97)\n"
     ]
    },
    {
     "ename": "ValueError",
     "evalue": "setting an array element with a sequence.",
     "output_type": "error",
     "traceback": [
      "\u001b[0;31m---------------------------------------------------------------------------\u001b[0m",
      "\u001b[0;31mTypeError\u001b[0m                                 Traceback (most recent call last)",
      "\u001b[0;31mTypeError\u001b[0m: float() argument must be a string or a number, not 'Nifti1Image'",
      "\nThe above exception was the direct cause of the following exception:\n",
      "\u001b[0;31mValueError\u001b[0m                                Traceback (most recent call last)",
      "Cell \u001b[0;32mIn[12], line 29\u001b[0m\n\u001b[1;32m     25\u001b[0m             rel_zmaps\u001b[38;5;241m.\u001b[39mappend(\u001b[38;5;28mmap\u001b[39m)\n\u001b[1;32m     26\u001b[0m             descriptors\u001b[38;5;241m.\u001b[39mappend(decriptor_name)\n\u001b[0;32m---> 29\u001b[0m zmap_mat_created, zmap_descriptors_created \u001b[38;5;241m=\u001b[39m \u001b[43mcreate_coerr_matrix\u001b[49m\u001b[43m(\u001b[49m\u001b[43mrel_zmaps\u001b[49m\u001b[43m,\u001b[49m\u001b[43m \u001b[49m\u001b[43mdescriptors\u001b[49m\u001b[43m)\u001b[49m\n",
      "Cell \u001b[0;32mIn[11], line 6\u001b[0m, in \u001b[0;36mcreate_coerr_matrix\u001b[0;34m(relevant_zmaps, zmap_descriptors)\u001b[0m\n\u001b[1;32m      4\u001b[0m \u001b[38;5;28;01mfor\u001b[39;00m i, \u001b[38;5;28mmap\u001b[39m \u001b[38;5;129;01min\u001b[39;00m \u001b[38;5;28menumerate\u001b[39m(relevant_zmaps):\n\u001b[1;32m      5\u001b[0m     \u001b[38;5;28mprint\u001b[39m(\u001b[38;5;28mmap\u001b[39m\u001b[38;5;241m.\u001b[39mshape)\n\u001b[0;32m----> 6\u001b[0m     \u001b[43mzmap_mat\u001b[49m\u001b[43m[\u001b[49m\u001b[43mi\u001b[49m\u001b[43m,\u001b[49m\u001b[43m:\u001b[49m\u001b[43m]\u001b[49m \u001b[38;5;241m=\u001b[39m \u001b[38;5;28mmap\u001b[39m\n\u001b[1;32m      8\u001b[0m \u001b[38;5;28mprint\u001b[39m(\u001b[38;5;28mlen\u001b[39m(zmap_descriptors))\n\u001b[1;32m      9\u001b[0m \u001b[38;5;28mprint\u001b[39m(zmap_mat\u001b[38;5;241m.\u001b[39mshape)\n",
      "\u001b[0;31mValueError\u001b[0m: setting an array element with a sequence."
     ]
    }
   ],
   "source": [
    "# TEST: compare session to session for \"twoBack-oneBack\" contrast\n",
    "\n",
    "requested_tasks = [\"nBack\"]\n",
    "requested_contrasts = [\"twoBack-oneBack\"]\n",
    "requested_encounters = [0,1,2,3,4]\n",
    "    \n",
    "descriptors = [] #where we will insert the string name of the each included map\n",
    "rel_zmaps = []\n",
    "\n",
    "for task in requested_tasks:\n",
    "    if task not in TASKS:\n",
    "        continue\n",
    "\n",
    "    for contrast in requested_contrasts:\n",
    "        if contrast not in CONTRASTS[task]:\n",
    "            continue\n",
    "\n",
    "        for encounter in requested_encounters:\n",
    "            if encounter < 0 or encounter >= max_num_encounters:\n",
    "                continue\n",
    "\n",
    "            decriptor_name = f\"{task}:{contrast}:ses-0{encounter + 1}\"\n",
    "            map = loaded_zmaps[task][contrast][encounter][\"zmap\"]\n",
    "\n",
    "            rel_zmaps.append(map)\n",
    "            descriptors.append(decriptor_name)\n",
    "\n",
    "\n",
    "zmap_mat_created, zmap_descriptors_created = create_coerr_matrix(rel_zmaps, descriptors)"
   ]
  }
 ],
 "metadata": {
  "kernelspec": {
   "display_name": "Python (PDM Environment)",
   "language": "python",
   "name": "pdm-env"
  },
  "language_info": {
   "codemirror_mode": {
    "name": "ipython",
    "version": 3
   },
   "file_extension": ".py",
   "mimetype": "text/x-python",
   "name": "python",
   "nbconvert_exporter": "python",
   "pygments_lexer": "ipython3",
   "version": "3.9.21"
  }
 },
 "nbformat": 4,
 "nbformat_minor": 5
}
