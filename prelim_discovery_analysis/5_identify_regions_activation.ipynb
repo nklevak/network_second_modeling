{
 "cells": [
  {
   "cell_type": "code",
   "execution_count": null,
   "id": "07972acc-2574-4b89-88d2-9a5e8b6f5194",
   "metadata": {},
   "outputs": [],
   "source": [
    "# this will be where i use the fixed effects second level model (across all encounters per subj) to identify\n",
    "# area of most continuout activation per task/contrast; then we can see how its changing over encounters."
   ]
  }
 ],
 "metadata": {
  "kernelspec": {
   "display_name": "Python (PDM Environment)",
   "language": "python",
   "name": "pdm-env"
  },
  "language_info": {
   "codemirror_mode": {
    "name": "ipython",
    "version": 3
   },
   "file_extension": ".py",
   "mimetype": "text/x-python",
   "name": "python",
   "nbconvert_exporter": "python",
   "pygments_lexer": "ipython3",
   "version": "3.9.21"
  }
 },
 "nbformat": 4,
 "nbformat_minor": 5
}
