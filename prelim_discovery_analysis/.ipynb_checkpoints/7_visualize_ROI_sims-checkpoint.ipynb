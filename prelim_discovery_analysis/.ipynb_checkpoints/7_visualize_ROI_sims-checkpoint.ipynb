{
 "cells": [
  {
   "cell_type": "code",
   "execution_count": null,
   "id": "3eb094dd-2f6b-4952-944a-073a84015a1c",
   "metadata": {},
   "outputs": [],
   "source": [
    "# this notebook will take the saved mean between subj and within subj correlations in the fixed effects and individual contrasts \n",
    "# it will look at which ROIs are the best fit per task, and if it's the one we'd expect given the main executive functions targeted by the task."
   ]
  },
  {
   "cell_type": "code",
   "execution_count": null,
   "id": "1dd9b8bc-58b0-4ff0-827f-fd3ac9bffc69",
   "metadata": {},
   "outputs": [],
   "source": []
  }
 ],
 "metadata": {
  "kernelspec": {
   "display_name": "Python (PDM Environment)",
   "language": "python",
   "name": "pdm-env"
  },
  "language_info": {
   "codemirror_mode": {
    "name": "ipython",
    "version": 3
   },
   "file_extension": ".py",
   "mimetype": "text/x-python",
   "name": "python",
   "nbconvert_exporter": "python",
   "pygments_lexer": "ipython3",
   "version": "3.9.21"
  }
 },
 "nbformat": 4,
 "nbformat_minor": 5
}
