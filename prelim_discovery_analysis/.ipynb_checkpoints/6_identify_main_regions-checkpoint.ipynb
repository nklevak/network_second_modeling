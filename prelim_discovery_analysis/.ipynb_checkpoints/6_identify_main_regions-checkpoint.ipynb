{
 "cells": [
  {
   "cell_type": "code",
   "execution_count": null,
   "id": "03b01bec-1065-4da2-82f0-5b267f5d6643",
   "metadata": {},
   "outputs": [],
   "source": [
    "# this will be where i use the fixed effects second level model (across all encounters per subj) to identify\n",
    "# area of most continuous activation per task/contrast; then we can see how its changing over encounters."
   ]
  }
 ],
 "metadata": {
  "kernelspec": {
   "display_name": "Python (PDM Environment)",
   "language": "python",
   "name": "pdm-env"
  },
  "language_info": {
   "codemirror_mode": {
    "name": "ipython",
    "version": 3
   },
   "file_extension": ".py",
   "mimetype": "text/x-python",
   "name": "python",
   "nbconvert_exporter": "python",
   "pygments_lexer": "ipython3",
   "version": "3.9.21"
  }
 },
 "nbformat": 4,
 "nbformat_minor": 5
}
