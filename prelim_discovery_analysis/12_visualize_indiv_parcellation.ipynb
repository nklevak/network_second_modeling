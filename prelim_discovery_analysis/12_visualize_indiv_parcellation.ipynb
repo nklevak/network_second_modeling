{
 "cells": [
  {
   "cell_type": "code",
   "execution_count": null,
   "id": "309ed514-79c7-4d19-a887-9263f032ad7a",
   "metadata": {},
   "outputs": [],
   "source": [
    "# visualizes the parcellations by the individual for all task/contrasts"
   ]
  }
 ],
 "metadata": {
  "kernelspec": {
   "display_name": "Python (PDM Environment)",
   "language": "python",
   "name": "pdm-env"
  },
  "language_info": {
   "codemirror_mode": {
    "name": "ipython",
    "version": 3
   },
   "file_extension": ".py",
   "mimetype": "text/x-python",
   "name": "python",
   "nbconvert_exporter": "python",
   "pygments_lexer": "ipython3",
   "version": "3.9.21"
  }
 },
 "nbformat": 4,
 "nbformat_minor": 5
}
